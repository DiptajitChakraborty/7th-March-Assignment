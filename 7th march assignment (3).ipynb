{
 "cells": [
  {
   "cell_type": "markdown",
   "id": "06f0b36c-d644-4c08-b77d-04936e1a85b0",
   "metadata": {},
   "source": [
    "Q1. What are the three measures of central tendency?"
   ]
  },
  {
   "cell_type": "markdown",
   "id": "4dd8c395-7d6f-44ee-9f5b-24a38f44e560",
   "metadata": {},
   "source": [
    "Ans: The Three measures of Central tendancy are :\n",
    "1. Mean\n",
    "2. Median and \n",
    "3. Mode"
   ]
  },
  {
   "cell_type": "markdown",
   "id": "dc24450a-c2a9-4bd6-84ba-7b8483a2c8e3",
   "metadata": {},
   "source": [
    "Q2. What is the difference between the mean, median, and mode? How are they used to measure the\n",
    "central tendency of a dataset?"
   ]
  },
  {
   "cell_type": "markdown",
   "id": "21b35da5-50df-482e-acf9-82d3e0f4ec5e",
   "metadata": {},
   "source": [
    "Mean is generally the average of the dataset but it is useless when it comes to present of outliers for that case median is used to find the central tendancy.i.e. median is the middle value of the dataset , and mode is the most repeated value in the given observation. by which we can get the highest frequency value from the dataset."
   ]
  },
  {
   "cell_type": "markdown",
   "id": "5d8c6794-79ad-45bb-be61-d476e0d8ab38",
   "metadata": {},
   "source": [
    "Q3 . Measure the three measures of central tendency for the given height data:\n",
    "[178,177,176,177,178.2,178,175,179,180,175,178.9,176.2,177,172.5,178,176.5]"
   ]
  },
  {
   "cell_type": "code",
   "execution_count": 2,
   "id": "65e5a086-e459-4e21-a91d-b0fcd6da7392",
   "metadata": {},
   "outputs": [],
   "source": [
    "import numpy as np"
   ]
  },
  {
   "cell_type": "code",
   "execution_count": 2,
   "id": "67582626-96b0-4b13-946d-f1aeb7e1b487",
   "metadata": {},
   "outputs": [],
   "source": [
    "l = [178,177,176,177,178.2,178,175,179,180,175,178.9,176.2,177,172.5,178,176.5]"
   ]
  },
  {
   "cell_type": "code",
   "execution_count": 10,
   "id": "77084fbe-7f9b-4c58-b23a-c5007681b6e3",
   "metadata": {},
   "outputs": [
    {
     "data": {
      "text/plain": [
       "177.01875"
      ]
     },
     "execution_count": 10,
     "metadata": {},
     "output_type": "execute_result"
    }
   ],
   "source": [
    "mean = np.mean(l)\n",
    "mean"
   ]
  },
  {
   "cell_type": "code",
   "execution_count": 11,
   "id": "b36bf271-68a0-4919-8a5d-ebd64835a07d",
   "metadata": {},
   "outputs": [
    {
     "data": {
      "text/plain": [
       "177.0"
      ]
     },
     "execution_count": 11,
     "metadata": {},
     "output_type": "execute_result"
    }
   ],
   "source": [
    "median  = np.median(l)\n",
    "median"
   ]
  },
  {
   "cell_type": "code",
   "execution_count": 3,
   "id": "c271a66b-353e-4a41-b0be-28a420ee7f8b",
   "metadata": {},
   "outputs": [
    {
     "name": "stderr",
     "output_type": "stream",
     "text": [
      "/tmp/ipykernel_77/2333667063.py:2: FutureWarning: Unlike other reduction functions (e.g. `skew`, `kurtosis`), the default behavior of `mode` typically preserves the axis it acts along. In SciPy 1.11.0, this behavior will change: the default value of `keepdims` will become False, the `axis` over which the statistic is taken will be eliminated, and the value None will no longer be accepted. Set `keepdims` to True or False to avoid this warning.\n",
      "  mode = stats.mode(l)\n"
     ]
    },
    {
     "data": {
      "text/plain": [
       "ModeResult(mode=array([177.]), count=array([3]))"
      ]
     },
     "execution_count": 3,
     "metadata": {},
     "output_type": "execute_result"
    }
   ],
   "source": [
    "from scipy import stats\n",
    "mode = stats.mode(l)\n",
    "mode"
   ]
  },
  {
   "cell_type": "markdown",
   "id": "55e8e40e-054f-4ba3-a12b-d58f4ee66099",
   "metadata": {},
   "source": [
    "Q4. Find the standard deviation for the given data:\n",
    "[178,177,176,177,178.2,178,175,179,180,175,178.9,176.2,177,172.5,178,176.5]"
   ]
  },
  {
   "cell_type": "code",
   "execution_count": 13,
   "id": "637bb11c-3fd0-46bd-96ac-88e82cfe5cc7",
   "metadata": {},
   "outputs": [],
   "source": [
    "l1 = [178,177,176,177,178.2,178,175,179,180,175,178.9,176.2,177,172.5,178,176.5]"
   ]
  },
  {
   "cell_type": "code",
   "execution_count": 14,
   "id": "10241505-4f7b-41d6-a022-d03090b5e578",
   "metadata": {},
   "outputs": [
    {
     "data": {
      "text/plain": [
       "1.7885814036548633"
      ]
     },
     "execution_count": 14,
     "metadata": {},
     "output_type": "execute_result"
    }
   ],
   "source": [
    "np.std(l1)"
   ]
  },
  {
   "cell_type": "markdown",
   "id": "d8f586af-06d6-44ca-ba45-bdab06ebd23c",
   "metadata": {},
   "source": [
    "Q5. How are measures of dispersion such as range, variance, and standard deviation used to describe\n",
    "the spread of a dataset? Provide an example."
   ]
  },
  {
   "cell_type": "markdown",
   "id": "9e375438-a3f7-446b-900c-1b169e5cbcc2",
   "metadata": {},
   "source": [
    "Ans: Measure of dispersion such as range, variance, and standard deviation measures how far each number in the dataset from the mean . Range gives us the idea of the difference between upper limit and the lower limit of the datset . Variance measures the variablity from the average and standard deviaion is the square root of variance.\n"
   ]
  },
  {
   "cell_type": "code",
   "execution_count": 17,
   "id": "8e6a991c-2b01-4ebf-954b-b5908608f4e6",
   "metadata": {},
   "outputs": [
    {
     "data": {
      "text/plain": [
       "7.5"
      ]
     },
     "execution_count": 17,
     "metadata": {},
     "output_type": "execute_result"
    }
   ],
   "source": [
    "#Example\n",
    "#Lets the take the dataset from Q4.\n",
    "maximum = max(l1)\n",
    "minimum = min(l1)\n",
    "Range = maximum - minimum\n",
    "Range"
   ]
  },
  {
   "cell_type": "code",
   "execution_count": 18,
   "id": "3111f6a5-b1ef-48b4-865b-f51c957eca33",
   "metadata": {},
   "outputs": [
    {
     "data": {
      "text/plain": [
       "3.199023437500001"
      ]
     },
     "execution_count": 18,
     "metadata": {},
     "output_type": "execute_result"
    }
   ],
   "source": [
    "np.var(l1)"
   ]
  },
  {
   "cell_type": "code",
   "execution_count": 19,
   "id": "50edad0d-3947-4e3e-9eac-857847acd919",
   "metadata": {},
   "outputs": [
    {
     "data": {
      "text/plain": [
       "1.7885814036548633"
      ]
     },
     "execution_count": 19,
     "metadata": {},
     "output_type": "execute_result"
    }
   ],
   "source": [
    "np.std(l1)"
   ]
  },
  {
   "cell_type": "markdown",
   "id": "98a4b4c0-ee25-49d4-86ad-e29ac8437daf",
   "metadata": {},
   "source": [
    "Q6. What is a Venn diagram?"
   ]
  },
  {
   "cell_type": "markdown",
   "id": "10bbd742-9480-46a9-b1eb-0741d3af2432",
   "metadata": {},
   "source": [
    "Ans: Venn diagram is a diagram representing mathematical or logical sets pictorially as circles or closed curves within an enclosing rectangle .By this diagram we can get the union ,intersection and we can also get the idea of mapping and relations from the diagram."
   ]
  },
  {
   "cell_type": "markdown",
   "id": "0c40233b-c16a-4780-8326-6503107de93b",
   "metadata": {},
   "source": [
    "Q7. For the two given sets A = (2,3,4,5,6,7) & B = (0,2,6,8,10). Find:\n",
    "(i) A (intersection) B\n",
    "(ii) A ⋃ B"
   ]
  },
  {
   "cell_type": "markdown",
   "id": "03dc0d33-d9c3-4e37-b2ae-27fca5b85c5e",
   "metadata": {},
   "source": [
    "Ans:(i) = (2,6) \n",
    "    (ii) = (0,2,3,,5,6,7,8,10)"
   ]
  },
  {
   "cell_type": "markdown",
   "id": "33bf5523-a472-441e-ab3a-ae908dd62469",
   "metadata": {},
   "source": [
    "Q8. What do you understand about skewness in data?"
   ]
  },
  {
   "cell_type": "markdown",
   "id": "b668698b-3b73-4e01-9171-d1776d429438",
   "metadata": {},
   "source": [
    "Ans: Skewness is a measure of the asymmetry of a distribution. There can be 2 type of skewness either positively skewd or negatively skewed.\n",
    "For the case of Positively skewed data the relation between mean median and mode is mean>median>mode where For the case of Negatively skewed data the relation between mean median and mode is mean<median<mode"
   ]
  },
  {
   "cell_type": "markdown",
   "id": "52aeffde-a56b-4246-814b-b22fc498ccda",
   "metadata": {},
   "source": [
    "Q9. If a data is right skewed then what will be the position of median with respect to mean?"
   ]
  },
  {
   "cell_type": "markdown",
   "id": "9f70fc89-478f-4de3-b29c-7f4057a56553",
   "metadata": {},
   "source": [
    "Ans: If the data rigt skewed than its median will be greater than mean and it will be located right side of mean in the graph ."
   ]
  },
  {
   "cell_type": "markdown",
   "id": "d8a79cb5-3257-43c2-8305-b7c49db9dba0",
   "metadata": {},
   "source": [
    "Q10. Explain the difference between covariance and correlation. How are these measures used in\n",
    "statistical analysis?"
   ]
  },
  {
   "cell_type": "markdown",
   "id": "71a87e26-ce46-4300-9320-f34c159a04df",
   "metadata": {},
   "source": [
    "Ans: Covariance and correlation are two terms that are opposed and are both used in statistics and regression analysis. Covariance shows you how the two variables differ, whereas correlation shows you how the two variables are related."
   ]
  },
  {
   "cell_type": "markdown",
   "id": "af6e60e7-75ac-4cc1-9648-8acd0d3aa18f",
   "metadata": {},
   "source": [
    "Q11. What is the formula for calculating the sample mean? Provide an example calculation for a\n",
    "dataset."
   ]
  },
  {
   "cell_type": "markdown",
   "id": "45bd5982-9976-44b8-b0b6-e77ac7299e82",
   "metadata": {},
   "source": [
    "Ans : The formula for calculating sample mean is summation over xi/n. Where xi's are the observations and n is the number of observations . And it is denoted by x bar."
   ]
  },
  {
   "cell_type": "code",
   "execution_count": 28,
   "id": "0cabbfef-6acd-4806-8e36-b6702d816bc8",
   "metadata": {},
   "outputs": [
    {
     "name": "stdout",
     "output_type": "stream",
     "text": [
      "The sample mean is :  177.01875\n"
     ]
    }
   ],
   "source": [
    "#Example\n",
    "#Lets take the data from Q3\n",
    "sum = 0\n",
    "for i in l:\n",
    "    sum += i\n",
    "print(\"The sample mean is : \", sum/len(l))"
   ]
  },
  {
   "cell_type": "markdown",
   "id": "085c69c8-3b60-4b58-b84f-39fceb3726f5",
   "metadata": {},
   "source": [
    "Q12. For a normal distribution data what is the relationship between its measure of central tendency?"
   ]
  },
  {
   "cell_type": "markdown",
   "id": "32c28a01-3d24-4e1e-a3fe-a4b92f7bd9e7",
   "metadata": {},
   "source": [
    "Ans: For a normal distribution the relationship between mean median and mode is \n",
    "mean = median = mode"
   ]
  },
  {
   "cell_type": "markdown",
   "id": "ea4900cc-2938-470b-a69f-d68e7da7e63b",
   "metadata": {},
   "source": [
    "Q13. How is covariance different from correlation?"
   ]
  },
  {
   "cell_type": "markdown",
   "id": "23e144d1-a645-4f8a-b969-a76b25e22dd5",
   "metadata": {},
   "source": [
    "Ans: Covariance shows how the 2 variables differ and correlation shows how they are correlated. Covariance ranges from minus infinity to plus infinity i.e.  it has no specific limit value i.e why it is hard to get decision from covariance where correlation value lies from -1 to +1."
   ]
  },
  {
   "cell_type": "markdown",
   "id": "571f9642-a39a-48d2-8825-879c6c6fb66d",
   "metadata": {},
   "source": [
    "Q14. How do outliers affect measures of central tendency and dispersion? Provide an example."
   ]
  },
  {
   "cell_type": "markdown",
   "id": "9d0c9709-1281-47ed-bb60-430eaf0d2f34",
   "metadata": {},
   "source": [
    "Ans: For outlier the average value can change in large scale similarly in the case of dispersion such as variance, standard deviation."
   ]
  },
  {
   "cell_type": "code",
   "execution_count": 40,
   "id": "6c1bc625-e729-40cf-8d53-83f3b2762d44",
   "metadata": {},
   "outputs": [
    {
     "data": {
      "text/plain": [
       "5.0"
      ]
     },
     "execution_count": 40,
     "metadata": {},
     "output_type": "execute_result"
    }
   ],
   "source": [
    "#Example\n",
    "data = [1,2,3,4,5,6,7,8,9,5,4,2,8,6,6,9,8,5,4,7,1,2,3]\n",
    "np.mean(data)"
   ]
  },
  {
   "cell_type": "code",
   "execution_count": 41,
   "id": "572fe080-7094-452a-af38-1135934dd839",
   "metadata": {},
   "outputs": [],
   "source": [
    "#In presence of outlier\n",
    "data1 = [1,2,3,4,5,6,7,8,9,5,4,2,8,6,6,9,8,5,4,7,1,2,3,1000]"
   ]
  },
  {
   "cell_type": "code",
   "execution_count": 46,
   "id": "cb609265-5e6e-4cff-8245-02d449d4970f",
   "metadata": {},
   "outputs": [
    {
     "data": {
      "text/plain": [
       "46.458333333333336"
      ]
     },
     "execution_count": 46,
     "metadata": {},
     "output_type": "execute_result"
    }
   ],
   "source": [
    "np.mean(data1)"
   ]
  },
  {
   "cell_type": "code",
   "execution_count": 47,
   "id": "a6019453-87a3-47b9-aefc-f663c17285c8",
   "metadata": {},
   "outputs": [
    {
     "data": {
      "text/plain": [
       "6.086956521739131"
      ]
     },
     "execution_count": 47,
     "metadata": {},
     "output_type": "execute_result"
    }
   ],
   "source": [
    "#This the change that can be caused in presence of outlier.\n",
    "#Now in the case of variance or std,\n",
    "np.var(data)"
   ]
  },
  {
   "cell_type": "code",
   "execution_count": 48,
   "id": "469ecbbb-d8ad-4a1b-87ac-c1c7cbdf1b22",
   "metadata": {},
   "outputs": [
    {
     "data": {
      "text/plain": [
       "39538.08159722222"
      ]
     },
     "execution_count": 48,
     "metadata": {},
     "output_type": "execute_result"
    }
   ],
   "source": [
    "np.var(data1)"
   ]
  },
  {
   "cell_type": "code",
   "execution_count": 49,
   "id": "da43fd46-724a-4a3f-b9fb-ecd463edf6d9",
   "metadata": {},
   "outputs": [],
   "source": [
    "#One can easily get to know does this outlier effects the central tendancy and dispertion."
   ]
  },
  {
   "cell_type": "code",
   "execution_count": null,
   "id": "a8fd74c0-12d8-4560-b05d-0245e302a3ef",
   "metadata": {},
   "outputs": [],
   "source": []
  },
  {
   "cell_type": "code",
   "execution_count": null,
   "id": "6d25a06a-a2ab-410b-a910-42a4da0b04b6",
   "metadata": {},
   "outputs": [],
   "source": []
  },
  {
   "cell_type": "code",
   "execution_count": null,
   "id": "b1ebfa8a-2955-49a2-b442-cd1a11021fde",
   "metadata": {},
   "outputs": [],
   "source": []
  },
  {
   "cell_type": "code",
   "execution_count": null,
   "id": "8f49545a-d37a-42ec-ba5c-a61271738de9",
   "metadata": {},
   "outputs": [],
   "source": []
  },
  {
   "cell_type": "code",
   "execution_count": null,
   "id": "b86f3e3f-771f-41ac-b292-57f52e7e03f9",
   "metadata": {},
   "outputs": [],
   "source": []
  }
 ],
 "metadata": {
  "kernelspec": {
   "display_name": "Python 3 (ipykernel)",
   "language": "python",
   "name": "python3"
  },
  "language_info": {
   "codemirror_mode": {
    "name": "ipython",
    "version": 3
   },
   "file_extension": ".py",
   "mimetype": "text/x-python",
   "name": "python",
   "nbconvert_exporter": "python",
   "pygments_lexer": "ipython3",
   "version": "3.10.8"
  }
 },
 "nbformat": 4,
 "nbformat_minor": 5
}
